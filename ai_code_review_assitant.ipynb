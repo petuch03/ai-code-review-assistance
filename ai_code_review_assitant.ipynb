{
 "nbformat": 4,
 "nbformat_minor": 0,
 "metadata": {
  "colab": {
   "provenance": [],
   "toc_visible": true
  },
  "kernelspec": {
   "name": "python3",
   "display_name": "Python 3"
  },
  "language_info": {
   "name": "python"
  }
 },
 "cells": [
  {
   "cell_type": "code",
   "source": [
    "!pip install PyGithub\n",
    "!pip install transformers\n",
    "\n",
    "from github import Github\n",
    "from transformers import pipeline\n",
    "import time\n",
    "\n",
    "pipe = pipeline(\"text2text-generation\", model=\"microsoft/codereviewer\")"
   ],
   "metadata": {
    "colab": {
     "base_uri": "https://localhost:8080/"
    },
    "id": "ZeCvHXp2w-eO",
    "outputId": "42bf5b0d-1abb-4e6c-c237-59df6b3070b2"
   },
   "execution_count": 51,
   "outputs": [
    {
     "output_type": "stream",
     "name": "stdout",
     "text": [
      "Requirement already satisfied: PyGithub in /usr/local/lib/python3.10/dist-packages (1.59.1)\n",
      "Requirement already satisfied: deprecated in /usr/local/lib/python3.10/dist-packages (from PyGithub) (1.2.14)\n",
      "Requirement already satisfied: pyjwt[crypto]>=2.4.0 in /usr/local/lib/python3.10/dist-packages (from PyGithub) (2.8.0)\n",
      "Requirement already satisfied: pynacl>=1.4.0 in /usr/local/lib/python3.10/dist-packages (from PyGithub) (1.5.0)\n",
      "Requirement already satisfied: requests>=2.14.0 in /usr/local/lib/python3.10/dist-packages (from PyGithub) (2.31.0)\n",
      "Requirement already satisfied: cryptography>=3.4.0 in /usr/local/lib/python3.10/dist-packages (from pyjwt[crypto]>=2.4.0->PyGithub) (41.0.3)\n",
      "Requirement already satisfied: cffi>=1.4.1 in /usr/local/lib/python3.10/dist-packages (from pynacl>=1.4.0->PyGithub) (1.15.1)\n",
      "Requirement already satisfied: charset-normalizer<4,>=2 in /usr/local/lib/python3.10/dist-packages (from requests>=2.14.0->PyGithub) (3.2.0)\n",
      "Requirement already satisfied: idna<4,>=2.5 in /usr/local/lib/python3.10/dist-packages (from requests>=2.14.0->PyGithub) (3.4)\n",
      "Requirement already satisfied: urllib3<3,>=1.21.1 in /usr/local/lib/python3.10/dist-packages (from requests>=2.14.0->PyGithub) (2.0.4)\n",
      "Requirement already satisfied: certifi>=2017.4.17 in /usr/local/lib/python3.10/dist-packages (from requests>=2.14.0->PyGithub) (2023.7.22)\n",
      "Requirement already satisfied: wrapt<2,>=1.10 in /usr/local/lib/python3.10/dist-packages (from deprecated->PyGithub) (1.15.0)\n",
      "Requirement already satisfied: pycparser in /usr/local/lib/python3.10/dist-packages (from cffi>=1.4.1->pynacl>=1.4.0->PyGithub) (2.21)\n",
      "Requirement already satisfied: transformers in /usr/local/lib/python3.10/dist-packages (4.33.2)\n",
      "Requirement already satisfied: filelock in /usr/local/lib/python3.10/dist-packages (from transformers) (3.12.2)\n",
      "Requirement already satisfied: huggingface-hub<1.0,>=0.15.1 in /usr/local/lib/python3.10/dist-packages (from transformers) (0.17.1)\n",
      "Requirement already satisfied: numpy>=1.17 in /usr/local/lib/python3.10/dist-packages (from transformers) (1.23.5)\n",
      "Requirement already satisfied: packaging>=20.0 in /usr/local/lib/python3.10/dist-packages (from transformers) (23.1)\n",
      "Requirement already satisfied: pyyaml>=5.1 in /usr/local/lib/python3.10/dist-packages (from transformers) (6.0.1)\n",
      "Requirement already satisfied: regex!=2019.12.17 in /usr/local/lib/python3.10/dist-packages (from transformers) (2023.6.3)\n",
      "Requirement already satisfied: requests in /usr/local/lib/python3.10/dist-packages (from transformers) (2.31.0)\n",
      "Requirement already satisfied: tokenizers!=0.11.3,<0.14,>=0.11.1 in /usr/local/lib/python3.10/dist-packages (from transformers) (0.13.3)\n",
      "Requirement already satisfied: safetensors>=0.3.1 in /usr/local/lib/python3.10/dist-packages (from transformers) (0.3.3)\n",
      "Requirement already satisfied: tqdm>=4.27 in /usr/local/lib/python3.10/dist-packages (from transformers) (4.66.1)\n",
      "Requirement already satisfied: fsspec in /usr/local/lib/python3.10/dist-packages (from huggingface-hub<1.0,>=0.15.1->transformers) (2023.6.0)\n",
      "Requirement already satisfied: typing-extensions>=3.7.4.3 in /usr/local/lib/python3.10/dist-packages (from huggingface-hub<1.0,>=0.15.1->transformers) (4.5.0)\n",
      "Requirement already satisfied: charset-normalizer<4,>=2 in /usr/local/lib/python3.10/dist-packages (from requests->transformers) (3.2.0)\n",
      "Requirement already satisfied: idna<4,>=2.5 in /usr/local/lib/python3.10/dist-packages (from requests->transformers) (3.4)\n",
      "Requirement already satisfied: urllib3<3,>=1.21.1 in /usr/local/lib/python3.10/dist-packages (from requests->transformers) (2.0.4)\n",
      "Requirement already satisfied: certifi>=2017.4.17 in /usr/local/lib/python3.10/dist-packages (from requests->transformers) (2023.7.22)\n"
     ]
    }
   ]
  },
  {
   "cell_type": "code",
   "source": [
    "TOKEN = \"\"  # Replace with your GitHub Personal Access Token\n",
    "REPO_NAME = \"JetBrains/intellij-community\"  # Replace with the desired repository name \"<user>/<repo name>\"\n",
    "PR_NUMBER = 2569  # Replace with the desired pull request number (for spot checking )\n",
    "g = Github(TOKEN)\n",
    "repo = g.get_repo(REPO_NAME)"
   ],
   "metadata": {
    "id": "y3Fn51r--wDY"
   },
   "execution_count": 43,
   "outputs": []
  },
  {
   "cell_type": "code",
   "execution_count": 19,
   "metadata": {
    "id": "aOp5wJImtlRP"
   },
   "outputs": [],
   "source": [
    "def collect_review_data(max_pulls=10):\n",
    "    pull_requests = repo.get_pulls(state='closed', sort='updated', direction='desc')\n",
    "\n",
    "    review_diffs = []\n",
    "    review_comments = []\n",
    "\n",
    "    for pr in pull_requests:\n",
    "        print(pr)\n",
    "        for comment in pr.get_review_comments():\n",
    "            print(comment)\n",
    "            review_diffs.append(comment.diff_hunk)\n",
    "            review_comments.append(comment.body)\n",
    "\n",
    "    return review_diffs, review_comments\n",
    "\n",
    "review_sample_diffs, review_sample_comments = collect_review_data()"
   ]
  },
  {
   "cell_type": "code",
   "source": [
    "# Get review comments for the specific pull request\n",
    "def collect_review_comments_from_pr(pr_number):\n",
    "    pr = repo.get_pull(pr_number)\n",
    "\n",
    "    review_diffs = []\n",
    "    review_comments = []\n",
    "\n",
    "    for comment in pr.get_review_comments():\n",
    "        review_diffs.append(comment.diff_hunk)\n",
    "        review_comments.append(comment.body)\n",
    "\n",
    "    return review_diffs, review_comments\n",
    "\n",
    "pr_sample_diff, pr_sample_comment = collect_review_comments_from_pr(PR_NUMBER)\n"
   ],
   "metadata": {
    "id": "YR4TwO7Y7Pup"
   },
   "execution_count": 44,
   "outputs": []
  },
  {
   "cell_type": "code",
   "source": [
    "code_diff = pr_sample_diff[0]\n",
    "print('#### Code: \\n ``` \\n', code_diff, '\\n ```')\n",
    "print('#### Original Comment: \\n',pr_sample_comment[0])\n",
    "print('#### CodeReviewer Comment:')\n",
    "pipe(code_diff, max_length=512, num_return_sequences=1)[0][\"generated_text\"] # does not work properly in the loop"
   ],
   "metadata": {
    "colab": {
     "base_uri": "https://localhost:8080/",
     "height": 584
    },
    "id": "Oha7Q3Hy9PdK",
    "outputId": "e7f3a2b2-4169-44df-8397-c7d55819b76d"
   },
   "execution_count": 57,
   "outputs": [
    {
     "output_type": "stream",
     "name": "stdout",
     "text": [
      "#### Code: \n",
      " ``` \n",
      " @@ -37,16 +37,22 @@ open class AddModifierFix(\n",
      "     protected fun invokeOnElement(element: KtModifierListOwner?) {\n",
      "         element?.addModifier(modifier)\n",
      " \n",
      "-        if (modifier == KtTokens.ABSTRACT_KEYWORD && (element is KtProperty || element is KtNamedFunction)) {\n",
      "-            element.containingClass()?.run {\n",
      "-                if (!hasModifier(KtTokens.ABSTRACT_KEYWORD) && !hasModifier(KtTokens.SEALED_KEYWORD)) {\n",
      "-                    addModifier(KtTokens.ABSTRACT_KEYWORD)\n",
      "+        when (modifier) {\n",
      "+            KtTokens.ABSTRACT_KEYWORD -> {\n",
      "+                if (element is KtProperty || element is KtNamedFunction) {\n",
      "+                    element.containingClass()?.run {\n",
      "+                        if (!hasModifier(KtTokens.ABSTRACT_KEYWORD) && !hasModifier(KtTokens.SEALED_KEYWORD)) {\n",
      "+                            addModifier(KtTokens.ABSTRACT_KEYWORD)\n",
      "+                        }\n",
      "+                    }\n",
      "                 }\n",
      "             }\n",
      "-        }\n",
      " \n",
      "-        if (modifier == KtTokens.NOINLINE_KEYWORD) {\n",
      "-            element?.removeModifier(KtTokens.CROSSINLINE_KEYWORD)\n",
      "+            KtTokens.OVERRIDE_KEYWORD ->\n",
      "+                element?.removeModifier(KtTokens.PRIVATE_KEYWORD) \n",
      " ```\n",
      "#### Original Comment: \n",
      " It is not specifically about private. Basically, quickfix should never lead to CANNOT_WEAKEN_ACCESS_PRIVILEGE error, which may occur with any modifier except public.\r\n",
      "\n",
      "#### CodeReviewer Comment:\n"
     ]
    },
    {
     "output_type": "execute_result",
     "data": {
      "text/plain": [
       "\"<msg>This is a good change, but I think it's a good idea to add a `TODO` here.\""
      ],
      "application/vnd.google.colaboratory.intrinsic+json": {
       "type": "string"
      }
     },
     "metadata": {},
     "execution_count": 57
    }
   ]
  }
 ]
}
